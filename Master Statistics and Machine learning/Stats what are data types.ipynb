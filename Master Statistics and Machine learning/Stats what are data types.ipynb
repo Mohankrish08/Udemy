{
 "cells": [
  {
   "cell_type": "markdown",
   "id": "7d8d4974",
   "metadata": {},
   "source": [
    "# Data types"
   ]
  },
  {
   "cell_type": "code",
   "execution_count": 1,
   "id": "74f5acc0",
   "metadata": {},
   "outputs": [],
   "source": [
    "# numerical data\n",
    "num_data = [1,5,10,15]\n",
    "\n",
    "# char data\n",
    "char_data = 'ABC'\n",
    "\n",
    "# String data\n",
    "string = \"hi there\"\n",
    "\n",
    "# boolean \n",
    "data = True\n",
    "\n",
    "# list \n",
    "list_data = [[1,2,3,4], 'hello', 5]\n",
    "\n",
    "# dict\n",
    "dict_data = dict()\n",
    "dict_data['name'] = 'Mohan'\n",
    "dict_data['Age'] = 20\n",
    "dict_data['Occupation'] = 'Engineer'"
   ]
  },
  {
   "cell_type": "code",
   "execution_count": null,
   "id": "4ec25070",
   "metadata": {},
   "outputs": [],
   "source": []
  }
 ],
 "metadata": {
  "kernelspec": {
   "display_name": "Python 3 (ipykernel)",
   "language": "python",
   "name": "python3"
  },
  "language_info": {
   "codemirror_mode": {
    "name": "ipython",
    "version": 3
   },
   "file_extension": ".py",
   "mimetype": "text/x-python",
   "name": "python",
   "nbconvert_exporter": "python",
   "pygments_lexer": "ipython3",
   "version": "3.11.5"
  }
 },
 "nbformat": 4,
 "nbformat_minor": 5
}
