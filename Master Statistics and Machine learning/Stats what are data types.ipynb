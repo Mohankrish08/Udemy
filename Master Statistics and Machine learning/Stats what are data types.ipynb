{
 "cells": [
  {
   "cell_type": "markdown",
   "id": "e0efb77c",
   "metadata": {},
   "source": [
    "# Data types"
   ]
  },
  {
   "cell_type": "code",
   "execution_count": 1,
   "id": "e90c86b1",
   "metadata": {},
   "outputs": [],
   "source": [
    "# numerical data\n",
    "num_data = [1,5,10,15]\n",
    "\n",
    "# char data\n",
    "char_data = 'ABC'\n",
    "\n",
    "# String data\n",
    "string = \"hi there\"\n",
    "\n",
    "# boolean \n",
    "data = True\n",
    "\n",
    "# list \n",
    "list_data = [[1,2,3,4], 'hello', 5]\n",
    "\n",
    "# dict\n",
    "dict_data = dict()\n",
    "dict_data['name'] = 'Mohan'\n",
    "dict_data['Age'] = 20\n",
    "dict_data['Occupation'] = 'Engineer'"
   ]
  },
  {
   "cell_type": "code",
   "execution_count": 5,
   "id": "13860eda",
   "metadata": {},
   "outputs": [
    {
     "name": "stdout",
     "output_type": "stream",
     "text": [
      "Variable    Type    Data/Info\n",
      "-----------------------------\n",
      "char_data   str     ABC\n",
      "data        bool    True\n",
      "dict_data   dict    n=3\n",
      "list_data   list    n=3\n",
      "num_data    list    n=4\n",
      "string      str     hi there\n"
     ]
    }
   ],
   "source": [
    "# Let's see the data in the work space\n",
    "%whos"
   ]
  },
  {
   "cell_type": "code",
   "execution_count": null,
   "id": "5efcb8f4",
   "metadata": {},
   "outputs": [],
   "source": []
  }
 ],
 "metadata": {
  "kernelspec": {
   "display_name": "Python 3 (ipykernel)",
   "language": "python",
   "name": "python3"
  },
  "language_info": {
   "codemirror_mode": {
    "name": "ipython",
    "version": 3
   },
   "file_extension": ".py",
   "mimetype": "text/x-python",
   "name": "python",
   "nbconvert_exporter": "python",
   "pygments_lexer": "ipython3",
   "version": "3.11.5"
  }
 },
 "nbformat": 4,
 "nbformat_minor": 5
}
